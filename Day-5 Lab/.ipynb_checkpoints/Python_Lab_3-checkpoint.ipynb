{
 "cells": [
  {
   "cell_type": "markdown",
   "metadata": {},
   "source": [
    "# Python_Lab_3\n"
   ]
  },
  {
   "cell_type": "markdown",
   "metadata": {},
   "source": [
    "### Task 1\n",
    "- Write a function named **'create_student_records'** that takes a list of tuples. Each tuple contains a student's name and their scores in three subjects. The function should return a list of dictionaries, where each dictionary represents a student with keys: name, subject1, subject2, subject3. Use list comprehension to create the list of dictionaries."
   ]
  },
  {
   "cell_type": "code",
   "execution_count": 60,
   "metadata": {},
   "outputs": [
    {
     "data": {
      "text/plain": [
       "[{'name': 'fahad', 'subject1': 77, 'subject2': 99, 'subject3': 98},\n",
       " {'name': 'Zyad', 'subject1': 80, 'subject2': 37, 'subject3': 94},\n",
       " {'name': 'anas', 'subject1': 56, 'subject2': 66, 'subject3': 45},\n",
       " {'name': 'naif', 'subject1': 88, 'subject2': 90, 'subject3': 94}]"
      ]
     },
     "execution_count": 60,
     "metadata": {},
     "output_type": "execute_result"
    }
   ],
   "source": [
    "def create_student_records(list):\n",
    "    di = {}\n",
    "    di = [{ 'name': list[0], 'subject1': list[1], 'subject2': list[2], 'subject3': list[3]} for list in list]\n",
    "    return di\n",
    "        \n",
    "        \n",
    "\n",
    "\n",
    "\n",
    "list = [('fahad',77,99,98),\n",
    "        ('Zyad', 80,37,94),\n",
    "       ('anas',56,66,45),\n",
    "       ('naif', 88,90,94),\n",
    "       ]\n",
    "\n",
    "create_student_records(list)"
   ]
  },
  {
   "cell_type": "markdown",
   "metadata": {},
   "source": [
    "### Task 2\n",
    "- Write a function named **'filter_and_sort_students'** that takes the list of dictionaries from Question 1 and returns a sorted list of student names who have an average score of 80 or more across all subjects. Sort the names in alphabetical order."
   ]
  },
  {
   "cell_type": "code",
   "execution_count": 92,
   "metadata": {},
   "outputs": [
    {
     "data": {
      "text/plain": [
       "['fahad', 'naif']"
      ]
     },
     "execution_count": 92,
     "metadata": {},
     "output_type": "execute_result"
    }
   ],
   "source": [
    "def filter_and_sort_students(student):\n",
    "    filtered_students = [\n",
    "        student['name'] for student in student if (student['subject1'] + student['subject2'] + student['subject3']) / 3 >= 80]\n",
    "    \n",
    "    sorted_names = sorted(filtered_students)\n",
    "    return sorted_names\n",
    "\n",
    "filter_and_sort_students(create_student_records(list))"
   ]
  },
  {
   "cell_type": "markdown",
   "metadata": {},
   "source": [
    "### Task 3\n",
    "- Write a function named **'get_product_info'** that prompts the user to enter information about a product. The function should ask for the product name, product price, and product quantity. If the user enters an invalid input (e.g., a non-numeric value for the price or quantity), the function should handle the error and prompt the user to enter the value again. Return a dictionary containing the product information."
   ]
  },
  {
   "cell_type": "code",
   "execution_count": 18,
   "metadata": {},
   "outputs": [
    {
     "name": "stdin",
     "output_type": "stream",
     "text": [
      " enter the product name:  q\n",
      "enter the product price:  q\n"
     ]
    },
    {
     "name": "stdout",
     "output_type": "stream",
     "text": [
      "the value shoud be a int\n"
     ]
    },
    {
     "name": "stdin",
     "output_type": "stream",
     "text": [
      "enter the product price:  1\n",
      "product quantity:  q\n"
     ]
    },
    {
     "name": "stdout",
     "output_type": "stream",
     "text": [
      "d\n"
     ]
    },
    {
     "name": "stdin",
     "output_type": "stream",
     "text": [
      "product quantity:  8\n"
     ]
    },
    {
     "data": {
      "text/plain": [
       "{'product_name': 'q', 'product_price': 1.0, 'product_quantity': 8}"
      ]
     },
     "execution_count": 18,
     "metadata": {},
     "output_type": "execute_result"
    }
   ],
   "source": [
    "def get_product_info():\n",
    "    product_name = str(input(\" enter the product name: \"))\n",
    "    while True:\n",
    "        try:\n",
    "            product_price = float(input(\"enter the product price: \"))\n",
    "            \n",
    "            while True:\n",
    "                try:\n",
    "                    product_quantity = int(input(\"product quantity: \"))\n",
    "                    break\n",
    "                except:\n",
    "                    print(\"d\")\n",
    "            break\n",
    "        except:\n",
    "            print(\"the value shoud be a int\")\n",
    "\n",
    "    return {\"product_name\":product_name,\"product_price\":product_price, \"product_quantity\":product_quantity }\n",
    "\n",
    "get_product_info()"
   ]
  },
  {
   "cell_type": "markdown",
   "metadata": {},
   "source": [
    "## Task 4\n",
    "- Write a function named **'get_even_numbers'** that takes a list of integers and returns a list of even numbers using list comprehension."
   ]
  },
  {
   "cell_type": "code",
   "execution_count": 4,
   "metadata": {},
   "outputs": [
    {
     "name": "stdout",
     "output_type": "stream",
     "text": [
      "[2, 4, 6, 8, 10]\n"
     ]
    }
   ],
   "source": [
    "def get_even_numbers(numbers):\n",
    "    return [num for num in numbers if num % 2 == 0]\n",
    "\n",
    "numbers = [1, 2, 3, 4, 5, 6, 7, 8, 9, 10]\n",
    "even_numbers = get_even_numbers(numbers)\n",
    "\n",
    "print(even_numbers)"
   ]
  },
  {
   "cell_type": "markdown",
   "metadata": {},
   "source": [
    "### Task 5\n",
    "- Write a function named **'pair_elements'** that takes two lists of equal length as parameters and returns a list of tuples, where each tuple contains corresponding elements from the two lists. Use the zip function to achieve this."
   ]
  },
  {
   "cell_type": "markdown",
   "metadata": {},
   "source": []
  },
  {
   "cell_type": "code",
   "execution_count": 11,
   "metadata": {},
   "outputs": [
    {
     "name": "stdout",
     "output_type": "stream",
     "text": [
      "[(1, 4), (2, 5), (3, 6)]\n"
     ]
    }
   ],
   "source": [
    "def pair_elements(list1, list2):\n",
    "    if len(list1) == len(list2):\n",
    "        paired_list = list(zip(list1, list2))\n",
    "        \n",
    "    return paired_list\n",
    "\n",
    "list_a = [1, 2, 3]\n",
    "list_b = [4, 5, 6]\n",
    "\n",
    "paired_result = pair_elements(list_a, list_b)\n",
    "print(paired_result)\n"
   ]
  },
  {
   "cell_type": "markdown",
   "metadata": {},
   "source": [
    "### Task 6\n",
    "- Write a function named **'square_dict_lambda'** that takes a list of integers and returns a dictionary where the keys are the integers and the values are their squares. Use a lambda function within a dictionary comprehension to achieve this."
   ]
  },
  {
   "cell_type": "code",
   "execution_count": 13,
   "metadata": {},
   "outputs": [
    {
     "name": "stdout",
     "output_type": "stream",
     "text": [
      "{1: 1, 2: 4, 3: 9, 4: 16, 5: 25, 6: 36, 7: 49, 8: 64, 9: 81, 10: 100}\n"
     ]
    }
   ],
   "source": [
    "def square_dict_lambda(int_list):\n",
    "    return {x: (lambda y: y**2)(x) for x in int_list}\n",
    "\n",
    "numbers = [1, 2, 3, 4, 5, 6, 7, 8, 9, 10]\n",
    "squared_dict = square_dict_lambda(numbers)\n",
    "print(squared_dict)\n"
   ]
  },
  {
   "cell_type": "code",
   "execution_count": null,
   "metadata": {},
   "outputs": [],
   "source": []
  }
 ],
 "metadata": {
  "kernelspec": {
   "display_name": "Python 3 (ipykernel)",
   "language": "python",
   "name": "python3"
  },
  "language_info": {
   "codemirror_mode": {
    "name": "ipython",
    "version": 3
   },
   "file_extension": ".py",
   "mimetype": "text/x-python",
   "name": "python",
   "nbconvert_exporter": "python",
   "pygments_lexer": "ipython3",
   "version": "3.11.7"
  }
 },
 "nbformat": 4,
 "nbformat_minor": 4
}
