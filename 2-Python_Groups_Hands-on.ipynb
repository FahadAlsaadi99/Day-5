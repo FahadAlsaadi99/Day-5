{
 "cells": [
  {
   "cell_type": "markdown",
   "metadata": {
    "id": "kZXiW0-J0-2x"
   },
   "source": [
    "# Python_Groups_Hands-on\n"
   ]
  },
  {
   "cell_type": "markdown",
   "metadata": {
    "id": "I05A6_S80-2y"
   },
   "source": [
    "## Project: Library Management System\n",
    "### Description:\n",
    "- Develop a basic Library Management System (LMS) that allows users to manage book records, including adding, updating, deleting, and displaying book information. The system should also provide basic statistical analysis.\n",
    "\n",
    "### System requirements:\n",
    "\n",
    "#### Data Structure Design:\n",
    "\n",
    "  - Define data structures using lists, tuples, dictionaries, and sets to store book information (e.g., book ID, title, author, year, genres).\n",
    "\n",
    "#### Basic Operations:\n",
    "\n",
    "- Implement functions to add, update, delete, and display book records.\n",
    "- Ensure proper type conversion and validation of inputs.\n",
    "\n",
    "#### Statistical Analysis:\n",
    "\n",
    "- Write functions to calculate and display the total number of books, the average publication year, and the most common genre.\n",
    "- Use list comprehensions and built-in functions (sort, len, zip, range) for calculations.\n",
    "\n",
    "#### Advanced Features:\n",
    "\n",
    "- Implement search functionality to find books by title or author using lambda functions.\n",
    "- Provide sorting options for book records based on different criteria (e.g., title, year).\n",
    "\n",
    "\n",
    "#### Exception Handling:\n",
    "\n",
    "- Handle potential errors (e.g., invalid input) using try-except blocks."
   ]
  },
  {
   "cell_type": "markdown",
   "metadata": {
    "id": "rXuH9y0_D76o"
   },
   "source": [
    "#### Q1: Using the following table, create a function to add these books to your library:\n",
    "\n",
    "\n",
    "\n",
    "| Book ID | Title                            | Author               | Year | Genres                              |\n",
    "|---------|----------------------------------|----------------------|------|-------------------------------------|\n",
    "| 1       | Harry Potter and the Sorcerer's Stone | J.K. Rowling         | 1997 | Fantasy, Young Adult                |\n",
    "| 2       | To Kill a Mockingbird             | Harper Lee           | 1960 | Fiction, Classics                   |\n",
    "| 3       | The Great Gatsby                  | F. Scott Fitzgerald  | 1925 | Fiction, Classics                   |\n",
    "| 4       | 1984                              | George Orwell        | 1949 | Fiction, Dystopian                  |\n",
    "| 5       | The Catcher in the Rye            | J.D. Salinger        | 1951 | Fiction, Classics                   |\n",
    "| 6       | Pride and Prejudice               | Jane Austen          | 1813 | Fiction, Romance, Classics          |\n",
    "| 7       | The Hobbit                        | J.R.R. Tolkien       | 1937 | Fantasy, Adventure                  |\n",
    "| 8       | The Hunger Games                  | Suzanne Collins      | 2008 | Science Fiction, Dystopian, Young Adult |\n",
    "| 9       | The Da Vinci Code                 | Dan Brown            | 2003 | Mystery, Thriller                   |\n",
    "| 10      | The Chronicles of Narnia          | C.S. Lewis           | 1950 | Fantasy, Children's Literature      |\n",
    "| 11      | Gone with the Wind                | Margaret Mitchell    | 1936 | Historical Fiction, Romance         |\n",
    "| 12      | Sapiens: A Brief History of Humankind | Yuval Noah Harari   | 2011 | Nonfiction, History, Science        |\n",
    "| 13      | The Road                          | Cormac McCarthy      | 2006 | Fiction, Post-Apocalyptic           |\n",
    "| 14      | The Girl with the Dragon Tattoo   | Stieg Larsson        | 2005 | Mystery, Thriller                   |\n",
    "| 15      | The Alchemist                     | Paulo Coelho         | 1988 | Fiction, Inspirational              |\n"
   ]
  },
  {
   "cell_type": "code",
   "execution_count": 3,
   "metadata": {
    "id": "BzV_B_g20-2z"
   },
   "outputs": [
    {
     "name": "stdout",
     "output_type": "stream",
     "text": [
      "{1: [\"Harry Potter and the Sorcerer's Stone\", 'J.K. Rowling', 1997, 'Fantasy, Young Adult'], 2: ['To Kill a Mockingbird', 'Harper Lee', 1960, 'Fiction, Classics'], 3: ['The Great Gatsby', 'F. Scott Fitzgerald', 1925, 'Fiction, Classics'], 4: ['1984', 'George Orwell', 1949, 'Fiction, Dystopian'], 5: ['The Catcher in the Rye', 'J.D. Salinger', 1951, 'Fiction, Classics'], 6: ['Pride and Prejudice', 'Jane Austen', 1813, 'Fiction, Romance, Classics'], 7: ['The Hobbit', 'J.R.R. Tolkien', 1937, 'Fantasy, Adventure'], 8: ['The Hunger Games', 'Suzanne Collins', 2008, 'Science Fiction, Dystopian, Young Adult'], 9: ['The Da Vinci Code', 'Dan Brown', 2003, 'Mystery, Thriller'], 10: ['The Chronicles of Narnia', 'C.S. Lewis', 1950, \"Fantasy, Children's Literature\"], 11: ['Gone with the Wind', 'Margaret Mitchell', 1936, 'Historical Fiction, Romance'], 12: ['Sapiens: A Brief History of Humankind', 'Yuval Noah Harari', 2011, 'Nonfiction, History, Science'], 13: ['The Road', 'Cormac McCarthy', 2006, 'Fiction, Post-Apocalyptic'], 14: ['The Girl with the Dragon Tattoo', 'Stieg Larsson', 2005, 'Mystery, Thriller'], 15: ['The Alchemist', 'Paulo Coelho', 1988, 'Fiction, Inspirational']}\n"
     ]
    }
   ],
   "source": [
    "#dictionary = {1:[\"Harry Potter and the Sorcerer's Stone\",\"J.K. Rowling\", 1997, \"Fantasy, Young Adult\"],\n",
    " #             2:[\"\tTo Kill a Mockingbird\", \"Harper Lee\" , 1960\t, \"Fiction, Classics\"],\n",
    "  #            3:[\"The Great Gatsby\", \"F. Scott Fitzgerald\", 1925\t,\"Fiction, Classics\"]}\n",
    "d = {}\n",
    "def function_Add(BID, T, A, Y, G):\n",
    "    d[BID] = [T, A, Y, G]\n",
    "    \n",
    "function_Add(1,\"Harry Potter and the Sorcerer's Stone\",\"J.K. Rowling\", 1997, \"Fantasy, Young Adult\")\n",
    "function_Add(2,\t\"To Kill a Mockingbird\",\t\"Harper Lee\",\t1960,\t\"Fiction, Classics\")\n",
    "function_Add(3,\t\"The Great Gatsby\",\t\"F. Scott Fitzgerald\",\t1925,\t\"Fiction, Classics\")\n",
    "function_Add(4,\t\"1984\"\t,\"George Orwell\",\t1949\t,\"Fiction, Dystopian\")\n",
    "function_Add(5,\t\"The Catcher in the Rye\"\t,\"J.D. Salinger\"\t,1951\t,\"Fiction, Classics\")\n",
    "function_Add(6,\t\"Pride and Prejudice\",\t\"Jane Austen\"\t,1813\t,\"Fiction, Romance, Classics\")\n",
    "function_Add(7,\t\"The Hobbit\",\t\"J.R.R. Tolkien\",\t1937,\t\"Fantasy, Adventure\")\n",
    "function_Add(8,\t\"The Hunger Games\",\t\"Suzanne Collins\",\t2008\t,\"Science Fiction, Dystopian, Young Adult\")\n",
    "function_Add(9,\t\"The Da Vinci Code\"\t,\"Dan Brown\",\t2003\t,\"Mystery, Thriller\")\n",
    "function_Add(10,\t\"The Chronicles of Narnia\",\t\"C.S. Lewis\",\t1950\t,\"Fantasy, Children's Literature\")\n",
    "function_Add(11,\t\"Gone with the Wind\",\t\"Margaret Mitchell\",\t1936\t,\"Historical Fiction, Romance\")\n",
    "function_Add(12,\t\"Sapiens: A Brief History of Humankind\",\t\"Yuval Noah Harari\",\t2011,\t\"Nonfiction, History, Science\")\n",
    "function_Add(13,\t\"The Road\",\t\"Cormac McCarthy\"\t,2006\t,\"Fiction, Post-Apocalyptic\")\n",
    "function_Add(14\t,\"The Girl with the Dragon Tattoo\",\t\"Stieg Larsson\",\t2005\t,\"Mystery, Thriller\")\n",
    "function_Add(15,\t\"The Alchemist\",\t\"Paulo Coelho\",\t1988,\t\"Fiction, Inspirational\")\n",
    "print(d)\n"
   ]
  },
  {
   "cell_type": "markdown",
   "metadata": {
    "id": "kR5bvgOsF3oJ"
   },
   "source": [
    "#### Q2: Create a function that updates books exsisted in your library and test it.\n",
    "- **Note**: If the user entered wrong book ID it should print \"Book with ID 'num' does not exist."
   ]
  },
  {
   "cell_type": "code",
   "execution_count": 4,
   "metadata": {
    "id": "U60cFkbUUYmj"
   },
   "outputs": [
    {
     "name": "stdout",
     "output_type": "stream",
     "text": [
      "{1: [\"Harry Potter and the Sorcerer's Stone\", 'J.K. Rowling', 1997, 'Fantasy, Young Adult'], 2: ['To Kill a Mockingbird', 'Harper Lee', 1960, 'Fiction, Classics'], 3: ['Updated Book', 'Updated Author', 2000, 'Gen2'], 4: ['1984', 'George Orwell', 1949, 'Fiction, Dystopian'], 5: ['The Catcher in the Rye', 'J.D. Salinger', 1951, 'Fiction, Classics'], 6: ['Pride and Prejudice', 'Jane Austen', 1813, 'Fiction, Romance, Classics'], 7: ['The Hobbit', 'J.R.R. Tolkien', 1937, 'Fantasy, Adventure'], 8: ['The Hunger Games', 'Suzanne Collins', 2008, 'Science Fiction, Dystopian, Young Adult'], 9: ['The Da Vinci Code', 'Dan Brown', 2003, 'Mystery, Thriller'], 10: ['The Chronicles of Narnia', 'C.S. Lewis', 1950, \"Fantasy, Children's Literature\"], 11: ['Gone with the Wind', 'Margaret Mitchell', 1936, 'Historical Fiction, Romance'], 12: ['Sapiens: A Brief History of Humankind', 'Yuval Noah Harari', 2011, 'Nonfiction, History, Science'], 13: ['The Road', 'Cormac McCarthy', 2006, 'Fiction, Post-Apocalyptic'], 14: ['The Girl with the Dragon Tattoo', 'Stieg Larsson', 2005, 'Mystery, Thriller'], 15: ['The Alchemist', 'Paulo Coelho', 1988, 'Fiction, Inspirational']}\n"
     ]
    }
   ],
   "source": [
    "def f_update(BID, T, A, Y, G):\n",
    "    if BID in d.keys():\n",
    "        d[BID] = [T, A, Y, G]\n",
    "    else:\n",
    "        print(\"Book with ID \", BID , \" does not exist\")\n",
    "\n",
    "f_update(3, \"Updated Book\", \"Updated Author\", 2000, \"Gen2\")\n",
    "print(d)"
   ]
  },
  {
   "cell_type": "markdown",
   "metadata": {
    "id": "ME3j_m-eLhyH"
   },
   "source": [
    "#### Q3: Create a function to delete books from your library and test it."
   ]
  },
  {
   "cell_type": "code",
   "execution_count": 5,
   "metadata": {
    "id": "JlGIx-gJUadK"
   },
   "outputs": [
    {
     "name": "stdout",
     "output_type": "stream",
     "text": [
      "{1: [\"Harry Potter and the Sorcerer's Stone\", 'J.K. Rowling', 1997, 'Fantasy, Young Adult'], 3: ['Updated Book', 'Updated Author', 2000, 'Gen2'], 4: ['1984', 'George Orwell', 1949, 'Fiction, Dystopian'], 5: ['The Catcher in the Rye', 'J.D. Salinger', 1951, 'Fiction, Classics'], 6: ['Pride and Prejudice', 'Jane Austen', 1813, 'Fiction, Romance, Classics'], 7: ['The Hobbit', 'J.R.R. Tolkien', 1937, 'Fantasy, Adventure'], 8: ['The Hunger Games', 'Suzanne Collins', 2008, 'Science Fiction, Dystopian, Young Adult'], 9: ['The Da Vinci Code', 'Dan Brown', 2003, 'Mystery, Thriller'], 10: ['The Chronicles of Narnia', 'C.S. Lewis', 1950, \"Fantasy, Children's Literature\"], 11: ['Gone with the Wind', 'Margaret Mitchell', 1936, 'Historical Fiction, Romance'], 12: ['Sapiens: A Brief History of Humankind', 'Yuval Noah Harari', 2011, 'Nonfiction, History, Science'], 13: ['The Road', 'Cormac McCarthy', 2006, 'Fiction, Post-Apocalyptic'], 14: ['The Girl with the Dragon Tattoo', 'Stieg Larsson', 2005, 'Mystery, Thriller'], 15: ['The Alchemist', 'Paulo Coelho', 1988, 'Fiction, Inspirational']}\n"
     ]
    }
   ],
   "source": [
    "def f_remove(BID):\n",
    "    if BID in d.keys():\n",
    "        del d[BID]\n",
    "    else:\n",
    "        print(\"Book with ID \", BID , \" does not exist\")\n",
    "f_remove(2)\n",
    "print(d)\n"
   ]
  },
  {
   "cell_type": "markdown",
   "metadata": {
    "id": "MIamnChwNgFr"
   },
   "source": [
    "#### Q4: Create a function that displays books information from your library and test it."
   ]
  },
  {
   "cell_type": "code",
   "execution_count": 6,
   "metadata": {
    "id": "xFNIK3YvUbz5"
   },
   "outputs": [
    {
     "name": "stdout",
     "output_type": "stream",
     "text": [
      "{1: [\"Harry Potter and the Sorcerer's Stone\", 'J.K. Rowling', 1997, 'Fantasy, Young Adult'], 3: ['Updated Book', 'Updated Author', 2000, 'Gen2'], 4: ['1984', 'George Orwell', 1949, 'Fiction, Dystopian'], 5: ['The Catcher in the Rye', 'J.D. Salinger', 1951, 'Fiction, Classics'], 6: ['Pride and Prejudice', 'Jane Austen', 1813, 'Fiction, Romance, Classics'], 7: ['The Hobbit', 'J.R.R. Tolkien', 1937, 'Fantasy, Adventure'], 8: ['The Hunger Games', 'Suzanne Collins', 2008, 'Science Fiction, Dystopian, Young Adult'], 9: ['The Da Vinci Code', 'Dan Brown', 2003, 'Mystery, Thriller'], 10: ['The Chronicles of Narnia', 'C.S. Lewis', 1950, \"Fantasy, Children's Literature\"], 11: ['Gone with the Wind', 'Margaret Mitchell', 1936, 'Historical Fiction, Romance'], 12: ['Sapiens: A Brief History of Humankind', 'Yuval Noah Harari', 2011, 'Nonfiction, History, Science'], 13: ['The Road', 'Cormac McCarthy', 2006, 'Fiction, Post-Apocalyptic'], 14: ['The Girl with the Dragon Tattoo', 'Stieg Larsson', 2005, 'Mystery, Thriller'], 15: ['The Alchemist', 'Paulo Coelho', 1988, 'Fiction, Inspirational']}\n"
     ]
    }
   ],
   "source": [
    "def f_print():\n",
    "    print(d)\n",
    "f_print()"
   ]
  },
  {
   "cell_type": "markdown",
   "metadata": {
    "id": "OvfdKdBqNt22"
   },
   "source": [
    "#### Q5: Create functions to do the following: calculates and display the total number of books, the average publication year, and the most common genre. and test it."
   ]
  },
  {
   "cell_type": "code",
   "execution_count": 7,
   "metadata": {
    "id": "mWg5eHIWUcsU"
   },
   "outputs": [
    {
     "name": "stdout",
     "output_type": "stream",
     "text": [
      "numer of books:  14\n",
      "years avarage 1968.142857142857\n",
      "most common genre:  Mystery, Thriller\n"
     ]
    }
   ],
   "source": [
    "def f_calculates():\n",
    "    num = len(d.keys())\n",
    "    print(\"numer of books: \" , num)\n",
    "    m = 0\n",
    "    for i in range(len(d)+2):\n",
    "        if i in d.keys():\n",
    "            m += d[i][2]\n",
    "    print(\"years avarage\", m/len(d.keys()))\n",
    "    f = []\n",
    "    for j in range(len(d)+2):\n",
    "        if j in d.keys():\n",
    "            try: \n",
    "                f.append(d[j][3])\n",
    "                #print(f)\n",
    "            except:\n",
    "                continue\n",
    "    ab = max(set(f), key = f.count)\n",
    "    print(\"most common genre: \" , ab)\n",
    "\n",
    "f_calculates()"
   ]
  },
  {
   "cell_type": "markdown",
   "metadata": {
    "id": "IuVLtf7dQaUW"
   },
   "source": [
    "#### Q6: Create 2 functions to search for books by the title and the author from your library and test it."
   ]
  },
  {
   "cell_type": "code",
   "execution_count": 8,
   "metadata": {
    "id": "7LnwRJLCUe3p"
   },
   "outputs": [
    {
     "name": "stdout",
     "output_type": "stream",
     "text": [
      "yes\n",
      "yes\n"
     ]
    }
   ],
   "source": [
    "def title_s(s):\n",
    "    for i in range(len(d)+2):\n",
    "        #print(\"a\")\n",
    "        if i in d.keys() :\n",
    "            if s in d[i][0]:\n",
    "                print(\"yes\")            \n",
    "def author(s):\n",
    "    for i in range(len(d)+2):\n",
    "        #print(\"a\")\n",
    "        if i in d.keys() :\n",
    "            #print(\"1\")\n",
    "            if s in d[i][1]:\n",
    "                print(\"yes\") \n",
    "\n",
    "\n",
    "title_s(\"Updated Book\")\n",
    "author(\"Updated Author\")"
   ]
  },
  {
   "cell_type": "markdown",
   "metadata": {
    "id": "fAu2ozKBQzJu"
   },
   "source": [
    "#### Q7: Create 2 functions to sort the books by the title and the year from your library and test it."
   ]
  },
  {
   "cell_type": "code",
   "execution_count": 9,
   "metadata": {
    "id": "X4PyuHTMUgHl"
   },
   "outputs": [
    {
     "name": "stdout",
     "output_type": "stream",
     "text": [
      "sort_title\n",
      "\n",
      "(4, ['1984', 'George Orwell', 1949, 'Fiction, Dystopian'])\n",
      "(11, ['Gone with the Wind', 'Margaret Mitchell', 1936, 'Historical Fiction, Romance'])\n",
      "(1, [\"Harry Potter and the Sorcerer's Stone\", 'J.K. Rowling', 1997, 'Fantasy, Young Adult'])\n",
      "(6, ['Pride and Prejudice', 'Jane Austen', 1813, 'Fiction, Romance, Classics'])\n",
      "(12, ['Sapiens: A Brief History of Humankind', 'Yuval Noah Harari', 2011, 'Nonfiction, History, Science'])\n",
      "(15, ['The Alchemist', 'Paulo Coelho', 1988, 'Fiction, Inspirational'])\n",
      "(5, ['The Catcher in the Rye', 'J.D. Salinger', 1951, 'Fiction, Classics'])\n",
      "(10, ['The Chronicles of Narnia', 'C.S. Lewis', 1950, \"Fantasy, Children's Literature\"])\n",
      "(9, ['The Da Vinci Code', 'Dan Brown', 2003, 'Mystery, Thriller'])\n",
      "(14, ['The Girl with the Dragon Tattoo', 'Stieg Larsson', 2005, 'Mystery, Thriller'])\n",
      "(7, ['The Hobbit', 'J.R.R. Tolkien', 1937, 'Fantasy, Adventure'])\n",
      "(8, ['The Hunger Games', 'Suzanne Collins', 2008, 'Science Fiction, Dystopian, Young Adult'])\n",
      "(13, ['The Road', 'Cormac McCarthy', 2006, 'Fiction, Post-Apocalyptic'])\n",
      "(3, ['Updated Book', 'Updated Author', 2000, 'Gen2'])\n",
      "----------\n",
      "sort_author\n",
      "\n",
      "(10, ['The Chronicles of Narnia', 'C.S. Lewis', 1950, \"Fantasy, Children's Literature\"])\n",
      "(13, ['The Road', 'Cormac McCarthy', 2006, 'Fiction, Post-Apocalyptic'])\n",
      "(9, ['The Da Vinci Code', 'Dan Brown', 2003, 'Mystery, Thriller'])\n",
      "(4, ['1984', 'George Orwell', 1949, 'Fiction, Dystopian'])\n",
      "(5, ['The Catcher in the Rye', 'J.D. Salinger', 1951, 'Fiction, Classics'])\n",
      "(1, [\"Harry Potter and the Sorcerer's Stone\", 'J.K. Rowling', 1997, 'Fantasy, Young Adult'])\n",
      "(7, ['The Hobbit', 'J.R.R. Tolkien', 1937, 'Fantasy, Adventure'])\n",
      "(6, ['Pride and Prejudice', 'Jane Austen', 1813, 'Fiction, Romance, Classics'])\n",
      "(11, ['Gone with the Wind', 'Margaret Mitchell', 1936, 'Historical Fiction, Romance'])\n",
      "(15, ['The Alchemist', 'Paulo Coelho', 1988, 'Fiction, Inspirational'])\n",
      "(14, ['The Girl with the Dragon Tattoo', 'Stieg Larsson', 2005, 'Mystery, Thriller'])\n",
      "(8, ['The Hunger Games', 'Suzanne Collins', 2008, 'Science Fiction, Dystopian, Young Adult'])\n",
      "(3, ['Updated Book', 'Updated Author', 2000, 'Gen2'])\n",
      "(12, ['Sapiens: A Brief History of Humankind', 'Yuval Noah Harari', 2011, 'Nonfiction, History, Science'])\n"
     ]
    }
   ],
   "source": [
    "def sort_title():\n",
    "    sorted_books = sorted(d.items(), key=lambda x: x[1][0])\n",
    "    for book in sorted_books:\n",
    "        print(book)\n",
    "\n",
    "def sort_author():\n",
    "    sorted_author = sorted(d.items(), key=lambda x: x[1][1])\n",
    "    for author in sorted_author:\n",
    "        print(author)\n",
    "\n",
    "print(\"sort_title\")\n",
    "print(\"\")\n",
    "sort_title()\n",
    "\n",
    "print(\"----------\")\n",
    "print(\"sort_author\")\n",
    "print(\"\")\n",
    "\n",
    "sort_author()"
   ]
  },
  {
   "cell_type": "markdown",
   "metadata": {
    "id": "KiaFO8rdiv4u"
   },
   "source": [
    "#### Q8: Create a function to bulk update genres of books using list comprehension. and test it."
   ]
  },
  {
   "cell_type": "code",
   "execution_count": 17,
   "metadata": {
    "id": "AbvXyE96UhVt"
   },
   "outputs": [
    {
     "name": "stdout",
     "output_type": "stream",
     "text": [
      " After update :\n",
      "{1: [\"Harry Potter and the Sorcerer's Stone\", 'J.K. Rowling', 1997, 'new '], 3: ['Updated Book', 'Updated Author', 2000, 'Gen2'], 4: ['1984', 'George Orwell', 1949, 'Fiction, Dystopian'], 5: ['The Catcher in the Rye', 'J.D. Salinger', 1951, 'Fiction, Classics'], 6: ['Pride and Prejudice', 'Jane Austen', 1813, 'Fiction, Romance, Classics'], 7: ['The Hobbit', 'J.R.R. Tolkien', 1937, 'Fantasy, Adventure'], 8: ['The Hunger Games', 'Suzanne Collins', 2008, 'Science Fiction, Dystopian, Young Adult'], 9: ['The Da Vinci Code', 'Dan Brown', 2003, 'Mystery, Thriller'], 10: ['The Chronicles of Narnia', 'C.S. Lewis', 1950, \"Fantasy, Children's Literature\"], 11: ['Gone with the Wind', 'Margaret Mitchell', 1936, 'Historical Fiction, Romance'], 12: ['Sapiens: A Brief History of Humankind', 'Yuval Noah Harari', 2011, 'Nonfiction, History, Science'], 13: ['The Road', 'Cormac McCarthy', 2006, 'Fiction, Post-Apocalyptic'], 14: ['The Girl with the Dragon Tattoo', 'Stieg Larsson', 2005, 'Mystery, Thriller'], 15: ['The Alchemist', 'Paulo Coelho', 1988, 'Fiction, Inspirational']}\n"
     ]
    }
   ],
   "source": [
    "def update_genre(d, book_id, new_genre):\n",
    "    \n",
    "    if book_id in d:\n",
    "        title, author, year, _ = d[book_id]\n",
    "        d[book_id][3] = new_genre\n",
    "    else:\n",
    "        print(f\"Book ID {book_id} not found in the dictionary.\")\n",
    "\n",
    "\n",
    "update_genre(d, 1, 'new ')\n",
    "\n",
    "print(\" After update :\")\n",
    "print(d)"
   ]
  },
  {
   "cell_type": "markdown",
   "metadata": {
    "id": "ZWkmOUNgi6V_"
   },
   "source": [
    "#### Q9: Implement a function to generate a report summarizing the library's statistics, including the total number of books, the number of books by each author, the number of books in each genre, and the oldest and newest books. and test it."
   ]
  },
  {
   "cell_type": "code",
   "execution_count": 19,
   "metadata": {
    "id": "Okjlb9pTUloe"
   },
   "outputs": [
    {
     "name": "stdout",
     "output_type": "stream",
     "text": [
      "Library Report:\n",
      "Total number of books: 14\n",
      "Number of books by each author:\n",
      "  J.K. Rowling: 1\n",
      "  Updated Author: 1\n",
      "  George Orwell: 1\n",
      "  J.D. Salinger: 1\n",
      "  Jane Austen: 1\n",
      "  J.R.R. Tolkien: 1\n",
      "  Suzanne Collins: 1\n",
      "  Dan Brown: 1\n",
      "  C.S. Lewis: 1\n",
      "  Margaret Mitchell: 1\n",
      "  Yuval Noah Harari: 1\n",
      "  Cormac McCarthy: 1\n",
      "  Stieg Larsson: 1\n",
      "  Paulo Coelho: 1\n",
      "Number of books in each genre:\n",
      "  new : 1\n",
      "  Gen2: 1\n",
      "  Fiction, Dystopian: 1\n",
      "  Fiction, Classics: 1\n",
      "  Fiction, Romance, Classics: 1\n",
      "  Fantasy, Adventure: 1\n",
      "  Science Fiction, Dystopian, Young Adult: 1\n",
      "  Mystery, Thriller: 2\n",
      "  Fantasy, Children's Literature: 1\n",
      "  Historical Fiction, Romance: 1\n",
      "  Nonfiction, History, Science: 1\n",
      "  Fiction, Post-Apocalyptic: 1\n",
      "  Fiction, Inspirational: 1\n",
      "Oldest book: Pride and Prejudice by Jane Austen (1813)\n",
      "Newest book: Sapiens: A Brief History of Humankind by Yuval Noah Harari (2011)\n",
      "\n"
     ]
    }
   ],
   "source": [
    "def generate_report(d):\n",
    "    total_books = len(d)\n",
    "    books_by_author = {}\n",
    "    books_by_genre = {}\n",
    "    oldest_book = None\n",
    "    newest_book = None\n",
    "\n",
    "    for key, (title, author, year, genre) in d.items():\n",
    "        if author not in books_by_author:\n",
    "            books_by_author[author] = 0\n",
    "        books_by_author[author] += 1\n",
    "\n",
    "        if genre not in books_by_genre:\n",
    "            books_by_genre[genre] = 0\n",
    "        books_by_genre[genre] += 1\n",
    "\n",
    "        if oldest_book is None or year < oldest_book[2]:\n",
    "            oldest_book = (title, author, year, genre)\n",
    "\n",
    "\n",
    "        if newest_book is None or year > newest_book[2]:\n",
    "            newest_book = (title, author, year, genre)\n",
    "\n",
    "    report = f\"Library Report:\\n\"\n",
    "    report += f\"Total number of books: {total_books}\\n\"\n",
    "    report += f\"Number of books by each author:\\n\"\n",
    "    for author, count in books_by_author.items():\n",
    "        report += f\"  {author}: {count}\\n\"\n",
    "    report += f\"Number of books in each genre:\\n\"\n",
    "    for genre, count in books_by_genre.items():\n",
    "        report += f\"  {genre}: {count}\\n\"\n",
    "    report += f\"Oldest book: {oldest_book[0]} by {oldest_book[1]} ({oldest_book[2]})\\n\"\n",
    "    report += f\"Newest book: {newest_book[0]} by {newest_book[1]} ({newest_book[2]})\\n\"\n",
    "\n",
    "    return report\n",
    "\n",
    "report = generate_report(d)\n",
    "print(report)\n"
   ]
  }
 ],
 "metadata": {
  "colab": {
   "provenance": []
  },
  "kernelspec": {
   "display_name": "Python 3 (ipykernel)",
   "language": "python",
   "name": "python3"
  },
  "language_info": {
   "codemirror_mode": {
    "name": "ipython",
    "version": 3
   },
   "file_extension": ".py",
   "mimetype": "text/x-python",
   "name": "python",
   "nbconvert_exporter": "python",
   "pygments_lexer": "ipython3",
   "version": "3.11.7"
  }
 },
 "nbformat": 4,
 "nbformat_minor": 4
}
